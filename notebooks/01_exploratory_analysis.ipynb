{
 "cells": [
  {
   "cell_type": "code",
   "execution_count": 1,
   "id": "379fed27",
   "metadata": {},
   "outputs": [],
   "source": [
    "import numpy as np \n",
    "import pandas as pd\n",
    "import os \n",
    "import sys"
   ]
  },
  {
   "cell_type": "code",
   "execution_count": 2,
   "id": "9f20f169",
   "metadata": {},
   "outputs": [],
   "source": [
    "wd = os.getcwd()\n",
    "root = os.path.dirname(wd)\n",
    "\n",
    "with open(os.path.join(root, 'data/processed/perfusion_data_cleaned.csv')) as data_file:    \n",
    "    data = pd.read_csv(data_file)"
   ]
  },
  {
   "cell_type": "markdown",
   "id": "53ab3979",
   "metadata": {},
   "source": [
    "# Explore Variables"
   ]
  },
  {
   "cell_type": "markdown",
   "id": "b599627f",
   "metadata": {},
   "source": [
    "### Numerical Variables"
   ]
  },
  {
   "cell_type": "code",
   "execution_count": null,
   "id": "12b00af2",
   "metadata": {},
   "outputs": [],
   "source": [
    "#measured variables\n",
    "\n"
   ]
  }
 ],
 "metadata": {
  "kernelspec": {
   "display_name": "cartool",
   "language": "python",
   "name": "python3"
  },
  "language_info": {
   "codemirror_mode": {
    "name": "ipython",
    "version": 3
   },
   "file_extension": ".py",
   "mimetype": "text/x-python",
   "name": "python",
   "nbconvert_exporter": "python",
   "pygments_lexer": "ipython3",
   "version": "3.12.3"
  }
 },
 "nbformat": 4,
 "nbformat_minor": 5
}
